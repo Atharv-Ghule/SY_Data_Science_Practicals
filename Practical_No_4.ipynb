{
  "nbformat": 4,
  "nbformat_minor": 0,
  "metadata": {
    "colab": {
      "provenance": []
    },
    "kernelspec": {
      "name": "python3",
      "display_name": "Python 3"
    },
    "language_info": {
      "name": "python"
    }
  },
  "cells": [
    {
      "cell_type": "markdown",
      "source": [
        "Date: 2/1/23\n",
        "\n",
        "**Practical no.4**\n",
        "\n",
        "**Aim: Write a pandas program to split following dataframe by unique_column and get mean,max,min and max values of age for respective data_sets.**"
      ],
      "metadata": {
        "id": "e133KiPs42Or"
      }
    },
    {
      "cell_type": "code",
      "execution_count": null,
      "metadata": {
        "colab": {
          "base_uri": "https://localhost:8080/"
        },
        "id": "fBht9sQsy_2a",
        "outputId": "1a82de93-7732-4a66-f7cb-6cdb3de3c361"
      },
      "outputs": [
        {
          "output_type": "stream",
          "name": "stdout",
          "text": [
            "Original DataFrame\n",
            "              AGE        \n",
            "             mean min max\n",
            "School_code              \n",
            "S001         12.0  12  12\n",
            "S002         13.5  13  14\n",
            "S003         12.0  12  12\n",
            "S004         13.0  13  13\n"
          ]
        }
      ],
      "source": [
        "import pandas as pd\n",
        "df=pd.DataFrame({'School_code':['S001','S002','S003','S001','S002','S004'],\n",
        "              'Class':['I','II','III','IV','V','VI'],\n",
        "              'Name' :['AAA','BBB','CCC','DDD','EEE','FFF'],\n",
        "              'AGE'  :[12,13,12,12,14,13],\n",
        "              'Height':[110,120,130,140,150,160],\n",
        "              'Weight':[40,50,60,70,80,90],\n",
        "              'Address':['Nerul','Panvel','vashi','juinagar','sanpada','seawoods']},\n",
        "              index=['S1','S2','S3','S4','S5','S6'])\n",
        "print(\"Original DataFrame\")\n",
        "grouped_single=df.groupby('School_code').agg({'AGE':('mean','min','max')})\n",
        "print(grouped_single)"
      ]
    }
  ]
}