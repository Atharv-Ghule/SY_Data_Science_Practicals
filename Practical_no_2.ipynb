{
  "nbformat": 4,
  "nbformat_minor": 0,
  "metadata": {
    "colab": {
      "provenance": []
    },
    "kernelspec": {
      "name": "python3",
      "display_name": "Python 3"
    },
    "language_info": {
      "name": "python"
    }
  },
  "cells": [
    {
      "cell_type": "markdown",
      "source": [
        "Date:2/01/23\n",
        "\n",
        "**Practical No.2**\n",
        "\n",
        "**2.1**\n",
        "\n",
        "**Aim: Write a numpy program to sort an array by the nth collection**"
      ],
      "metadata": {
        "id": "eeBLKAhvp2o_"
      }
    },
    {
      "cell_type": "code",
      "source": [
        "import numpy as np\n",
        "print(\"Original array:\\n\")\n",
        "nums=np.random.randint(0,10,(3,3))\n",
        "print(nums)\n",
        "print(\"In sort the said array by the nth column:\")\n",
        "print(nums[nums[:,1].argsort()])"
      ],
      "metadata": {
        "colab": {
          "base_uri": "https://localhost:8080/"
        },
        "id": "7-vO5l5GqbdX",
        "outputId": "b830ec74-f799-4b78-893c-291a0fb8840e"
      },
      "execution_count": null,
      "outputs": [
        {
          "output_type": "stream",
          "name": "stdout",
          "text": [
            "Original array:\n",
            "\n",
            "[[2 6 0]\n",
            " [1 8 6]\n",
            " [6 2 1]]\n",
            "In sort the said array by the nth column:\n",
            "[[6 2 1]\n",
            " [2 6 0]\n",
            " [1 8 6]]\n"
          ]
        }
      ]
    },
    {
      "cell_type": "markdown",
      "source": [
        "**2.2**\n",
        "\n",
        "**Aim: Write a numpy program to perform a given array with a specified postion & move all smaller elements value to the left**"
      ],
      "metadata": {
        "id": "AzGoKpV_rouU"
      }
    },
    {
      "cell_type": "code",
      "source": [
        "import numpy as np\n",
        "nums=np.array([70,50,20,12,30,-11,60,40,25,35])\n",
        "print(nums)\n",
        "print(\"\\n Alter partitioning on 4th position\")\n",
        "print(np.partition(nums,4))"
      ],
      "metadata": {
        "colab": {
          "base_uri": "https://localhost:8080/"
        },
        "id": "sJ329acLsdOK",
        "outputId": "d80b4e32-8b9a-42d0-be65-02417cf672f9"
      },
      "execution_count": null,
      "outputs": [
        {
          "output_type": "stream",
          "name": "stdout",
          "text": [
            "[ 70  50  20  12  30 -11  60  40  25  35]\n",
            "\n",
            " Alter partitioning on 4th position\n",
            "[ 12 -11  20  25  30  35  60  40  50  70]\n"
          ]
        }
      ]
    }
  ]
}