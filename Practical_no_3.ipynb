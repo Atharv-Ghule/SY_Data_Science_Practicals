{
  "nbformat": 4,
  "nbformat_minor": 0,
  "metadata": {
    "colab": {
      "provenance": []
    },
    "kernelspec": {
      "name": "python3",
      "display_name": "Python 3"
    },
    "language_info": {
      "name": "python"
    }
  },
  "cells": [
    {
      "cell_type": "markdown",
      "source": [
        "Date:2/1/23\n",
        "\n",
        "**Practical no.3**\n",
        "\n",
        "**3.1**\n",
        "\n",
        "**Aim: Write a numpy program to count a no. of dimensions,no.of elements and no.of bytesfor each element in a given array.** "
      ],
      "metadata": {
        "id": "CHcWvNFVt8So"
      }
    },
    {
      "cell_type": "code",
      "source": [
        "import numpy as np\n",
        "print(\"\\n Original arrays\")\n",
        "x=np.array([[0,1,2,3,4,5,6,7,8,9,10,11,12,13,14,15,16,17,18,19,20,25,22,23]])\n",
        "print(x)\n",
        "print(\"\\n Number of dimensions\")\n",
        "print(x.ndim)\n",
        "print(\"\\n No.of elements\")\n",
        "print(x.size)\n",
        "print(\"\\n No. of bytes in each elements of given array\")\n",
        "print(x.itemsize)"
      ],
      "metadata": {
        "colab": {
          "base_uri": "https://localhost:8080/"
        },
        "id": "BDzSgSn2vIkV",
        "outputId": "25d78e85-bec8-4a01-bbf4-cc3c0208ea68"
      },
      "execution_count": null,
      "outputs": [
        {
          "output_type": "stream",
          "name": "stdout",
          "text": [
            "\n",
            " Original arrays\n",
            "[[ 0  1  2  3  4  5  6  7  8  9 10 11 12 13 14 15 16 17 18 19 20 25 22 23]]\n",
            "\n",
            " Number of dimensions\n",
            "2\n",
            "\n",
            " No.of elements\n",
            "24\n",
            "\n",
            " No. of bytes in each elements of given array\n",
            "8\n"
          ]
        }
      ]
    },
    {
      "cell_type": "markdown",
      "source": [
        "**3.2**\n",
        "\n",
        "**Aim: Write a numpy program to get a copy of matrix with the elements below Kth diagonal zero**"
      ],
      "metadata": {
        "id": "lIPBH4pTwquy"
      }
    },
    {
      "cell_type": "code",
      "source": [
        "import numpy as np\n",
        "m=np.matrix([[1,2,3],\n",
        "            [4,5,6],\n",
        "            [7,8,9]])\n",
        "print(\"matrix given:\")\n",
        "print(m)\n",
        "print(np.triu(m))\n",
        "print(np.triu(m,-1))\n",
        "print(np.triu(m,-2))"
      ],
      "metadata": {
        "colab": {
          "base_uri": "https://localhost:8080/"
        },
        "id": "ltMzgo9Ow_mC",
        "outputId": "3f5a4cb1-46e2-4bdc-bd98-5d0cea848cf0"
      },
      "execution_count": null,
      "outputs": [
        {
          "output_type": "stream",
          "name": "stdout",
          "text": [
            "matrix given:\n",
            "[[1 2 3]\n",
            " [4 5 6]\n",
            " [7 8 9]]\n",
            "[[1 2 3]\n",
            " [0 5 6]\n",
            " [0 0 9]]\n",
            "[[1 2 3]\n",
            " [4 5 6]\n",
            " [0 8 9]]\n",
            "[[1 2 3]\n",
            " [4 5 6]\n",
            " [7 8 9]]\n"
          ]
        }
      ]
    }
  ]
}