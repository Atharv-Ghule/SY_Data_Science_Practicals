{
  "nbformat": 4,
  "nbformat_minor": 0,
  "metadata": {
    "colab": {
      "provenance": []
    },
    "kernelspec": {
      "name": "python3",
      "display_name": "Python 3"
    },
    "language_info": {
      "name": "python"
    }
  },
  "cells": [
    {
      "cell_type": "markdown",
      "source": [
        "Date:09/01/23\n",
        "\n",
        "**Practical No.1**\n",
        "\n",
        "**Aim: Write a NumPy program to swap rows and columns of a given array in reverse order.**"
      ],
      "metadata": {
        "id": "gLGYu3Uxu1oE"
      }
    },
    {
      "cell_type": "code",
      "execution_count": null,
      "metadata": {
        "colab": {
          "base_uri": "https://localhost:8080/"
        },
        "id": "90FC_WhOsQDM",
        "outputId": "3aaa02e1-ab8f-45ce-8e34-d945eeed5d47"
      },
      "outputs": [
        {
          "output_type": "stream",
          "name": "stdout",
          "text": [
            "original array elements:\n",
            " [['c1' 'c2' 'c3' 'c4']\n",
            " ['0' '1' '3' '4']\n",
            " ['90' '91' '93' '94']\n",
            " ['5' '0' '4' '2']]\n"
          ]
        }
      ],
      "source": [
        "import numpy as np\n",
        "a=np.array([['c1','c2','c3','c4'],[0,1,3,4],[90,91,93,94],[5,0,4,2]])\n",
        "print(\"original array elements:\\n\",a)"
      ]
    },
    {
      "cell_type": "code",
      "source": [
        "print(\"swap row of the said array in reverse order\")\n",
        "swap_rows=a[::-1,::]\n",
        "print(swap_rows)"
      ],
      "metadata": {
        "colab": {
          "base_uri": "https://localhost:8080/"
        },
        "id": "6ew1ykwfud68",
        "outputId": "87b0b65a-66c0-41ed-ab41-10aceadb203f"
      },
      "execution_count": null,
      "outputs": [
        {
          "output_type": "stream",
          "name": "stdout",
          "text": [
            "swap row of the said array in reverse order\n",
            "[['5' '0' '4' '2']\n",
            " ['90' '91' '93' '94']\n",
            " ['0' '1' '3' '4']\n",
            " ['c1' 'c2' 'c3' 'c4']]\n"
          ]
        }
      ]
    },
    {
      "cell_type": "code",
      "source": [
        "print(\"swap column of the given array in reverse order\")\n",
        "swap_col=a[::,::-1]\n",
        "print(\"Swapped colos \\n\",swap_col)"
      ],
      "metadata": {
        "colab": {
          "base_uri": "https://localhost:8080/"
        },
        "id": "42TlH_CwvS1y",
        "outputId": "dc25c1af-6282-4560-ccec-b1758408dc92"
      },
      "execution_count": null,
      "outputs": [
        {
          "output_type": "stream",
          "name": "stdout",
          "text": [
            "swap column of the given array in reverse order\n",
            "Swapped colos \n",
            " [['c4' 'c3' 'c2' 'c1']\n",
            " ['4' '3' '1' '0']\n",
            " ['94' '93' '91' '90']\n",
            " ['2' '4' '0' '5']]\n"
          ]
        }
      ]
    },
    {
      "cell_type": "code",
      "source": [
        "print(\"swap column of the given array in reverse order\")\n",
        "swap_row_col=a[::-1,::-1]\n",
        "print(\"Swapped rows and colos \\n\",swap_row_col)"
      ],
      "metadata": {
        "colab": {
          "base_uri": "https://localhost:8080/"
        },
        "id": "7Vv9_NQswjkC",
        "outputId": "dd5b5d8e-879e-4b8e-9079-e484cf816c9a"
      },
      "execution_count": null,
      "outputs": [
        {
          "output_type": "stream",
          "name": "stdout",
          "text": [
            "swap column of the given array in reverse order\n",
            "Swapped rows and colos \n",
            " [['2' '4' '0' '5']\n",
            " ['94' '93' '91' '90']\n",
            " ['4' '3' '1' '0']\n",
            " ['c4' 'c3' 'c2' 'c1']]\n"
          ]
        }
      ]
    },
    {
      "cell_type": "code",
      "source": [
        "#Swap two rows & columns\n",
        "num1=a\n",
        "num2=a\n",
        "x=np.arange(12).reshape (3,4)\n",
        "print(\"Swap Row of the Said array in reverse order :\")\n",
        "print(a)\n",
        "a[:,[0, 1]] = a[:,[1, 0]]\n",
        "#swaprows = a[3:1:-1,::-1]\n",
        "#print(swaprows)\n",
        "print(a)"
      ],
      "metadata": {
        "colab": {
          "base_uri": "https://localhost:8080/"
        },
        "id": "bH9K_c8z1RHc",
        "outputId": "8f5e2942-6e5d-4350-cd35-94c6ab885838"
      },
      "execution_count": null,
      "outputs": [
        {
          "output_type": "stream",
          "name": "stdout",
          "text": [
            "Swap Row of the Said array in reverse order :\n",
            "[['c2' 'c1' 'c3' 'c4']\n",
            " ['1' '0' '3' '4']\n",
            " ['91' '90' '93' '94']\n",
            " ['0' '5' '4' '2']]\n",
            "[['c1' 'c2' 'c3' 'c4']\n",
            " ['0' '1' '3' '4']\n",
            " ['90' '91' '93' '94']\n",
            " ['5' '0' '4' '2']]\n"
          ]
        }
      ]
    }
  ]
}